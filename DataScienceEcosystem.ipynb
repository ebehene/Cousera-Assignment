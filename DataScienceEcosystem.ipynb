{
 "cells": [
  {
   "cell_type": "markdown",
   "id": "5b7138ee-ded4-420b-933b-4749a1c1f580",
   "metadata": {},
   "source": [
    "# Data Science Tools and Ecosystem"
   ]
  },
  {
   "cell_type": "markdown",
   "id": "c9933204-1f79-407e-868f-7dbbaa71f43e",
   "metadata": {},
   "source": [
    "In this notebook, Data Science Tools and Ecosystem are summarized."
   ]
  },
  {
   "cell_type": "markdown",
   "id": "27bcc3f4-ce25-43f1-93c3-a9dbbcb21d3e",
   "metadata": {},
   "source": [
    "**Objectivies**\n",
    "- List popular data science languages \n",
    "- List some data science libraries \n",
    "- List some developmet environment tools used in data science \n",
    "- Creating basic tables in jupyter notebook\n",
    "- Perform arithmetric operations in jupyter notebook"
   ]
  },
  {
   "cell_type": "markdown",
   "id": "6d1088f4-b5ba-4fa8-996d-15dd1eaaf324",
   "metadata": {},
   "source": [
    "### Data sceince languages \n",
    "1. R\n",
    "2. Python\n",
    "3. C++"
   ]
  },
  {
   "cell_type": "markdown",
   "id": "bcc61bdb-8a3c-4014-9425-8d547ff18d06",
   "metadata": {},
   "source": [
    "### Data science libraries \n",
    "- Numpy\n",
    "- Pandas\n",
    "- Scikit-learn\n",
    "- Keras\n",
    "- Tensorflow"
   ]
  },
  {
   "cell_type": "markdown",
   "id": "166b2f22-3d05-4b39-b45f-adb20cb4d30e",
   "metadata": {},
   "source": [
    "### Development environment tools\n",
    "| Data science tools|\n",
    "|-------------------|\n",
    "|Prediction IO|\n",
    "|Tenserflow|\n",
    "|Model DB|"
   ]
  },
  {
   "cell_type": "markdown",
   "id": "4eb91773-1f0b-4ef9-bc0b-ee5291e02ff7",
   "metadata": {},
   "source": [
    "### Below are a few examples of evaluating arithmetic expressions in Python"
   ]
  },
  {
   "cell_type": "code",
   "execution_count": 3,
   "id": "b35aa0d3-c2f0-4583-9da4-5b29a758ffbe",
   "metadata": {},
   "outputs": [
    {
     "data": {
      "text/plain": [
       "17"
      ]
     },
     "execution_count": 3,
     "metadata": {},
     "output_type": "execute_result"
    }
   ],
   "source": [
    "(3*4) + 5\n",
    "# This a simple arithmetic expression to mutiply then add integers."
   ]
  },
  {
   "cell_type": "code",
   "execution_count": 5,
   "id": "5361e75f-e18d-4ac0-9b8c-429056ceeb95",
   "metadata": {},
   "outputs": [
    {
     "name": "stdout",
     "output_type": "stream",
     "text": [
      "3.3333333333333335\n"
     ]
    }
   ],
   "source": [
    "#This will convert 200 minutes to hours by diving by 60\n",
    "Hours=200/60\n",
    "print(Hours)"
   ]
  },
  {
   "cell_type": "markdown",
   "id": "2f1c22c6-129b-4c74-8dab-150a7f8f7686",
   "metadata": {},
   "source": [
    "## Author\n",
    "Behene Eric"
   ]
  },
  {
   "cell_type": "code",
   "execution_count": null,
   "id": "8613a65b-aea4-4069-9708-41965c1c9f9e",
   "metadata": {},
   "outputs": [],
   "source": []
  }
 ],
 "metadata": {
  "kernelspec": {
   "display_name": "Python 3 (ipykernel)",
   "language": "python",
   "name": "python3"
  },
  "language_info": {
   "codemirror_mode": {
    "name": "ipython",
    "version": 3
   },
   "file_extension": ".py",
   "mimetype": "text/x-python",
   "name": "python",
   "nbconvert_exporter": "python",
   "pygments_lexer": "ipython3",
   "version": "3.12.9"
  }
 },
 "nbformat": 4,
 "nbformat_minor": 5
}
